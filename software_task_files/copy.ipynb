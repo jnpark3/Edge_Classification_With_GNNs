{
 "cells": [
  {
   "cell_type": "code",
   "execution_count": 28,
   "metadata": {},
   "outputs": [],
   "source": [
    "from torch import Tensor as T\n",
    "import torch\n",
    "import random"
   ]
  },
  {
   "attachments": {},
   "cell_type": "markdown",
   "metadata": {},
   "source": [
    "### symmetrize_edge_weights function"
   ]
  },
  {
   "cell_type": "code",
   "execution_count": 29,
   "metadata": {},
   "outputs": [],
   "source": [
    "def symmetrize_edge_weights(edge_indices: T, edge_weights: T) -> T:\n",
    "    \"\"\"Method to symmetrize edge weights by averaging the weights of every\n",
    "    symmetric edge\n",
    "\n",
    "    Args:\n",
    "        edge_indices: Tensor containing edge indices of a graph\n",
    "        edge_weights: Weight for each edge\n",
    "    \"\"\"\n",
    "    edge_dictionary = {}\n",
    "    symmetric_pairings = []\n",
    "\n",
    "    # Find indices of symmetric pairs by storing edges in a dictionary\n",
    "    for i in range(len(edge_indices)):\n",
    "        a1, a2 = edge_indices[i].tolist()\n",
    "        a1 = int(a1)\n",
    "        a2 = int(a2)\n",
    "\n",
    "        edge_symmetric = False\n",
    "        if a2 not in edge_dictionary and a1 not in edge_dictionary:\n",
    "            edge_dictionary[a1] = [(a2, i)]\n",
    "            continue\n",
    "        if a2 not in edge_dictionary:\n",
    "            edge_dictionary[a2] = []\n",
    "        if a1 not in edge_dictionary:\n",
    "            edge_dictionary[a1] = []        \n",
    "        for node in edge_dictionary[a2]:\n",
    "            if node[0] == a1:\n",
    "                symmetric_pairings.append((i, node[1]))\n",
    "                edge_symmetric = True\n",
    "                break\n",
    "        if not edge_symmetric:\n",
    "            edge_dictionary[a2].append((a1, i))\n",
    "    \n",
    "    # Update weights for symmetric pairs\n",
    "    updated_values = edge_weights.clone()\n",
    "    for pair in symmetric_pairings:\n",
    "        average_weight = (updated_values[pair[0]] + updated_values[pair[1]])/2\n",
    "        updated_values[pair[0]] = average_weight\n",
    "        updated_values[pair[1]] = average_weight\n",
    "    return updated_values\n"
   ]
  },
  {
   "cell_type": "code",
   "execution_count": 30,
   "metadata": {},
   "outputs": [
    {
     "data": {
      "text/plain": [
       "tensor([2., 2.])"
      ]
     },
     "execution_count": 30,
     "metadata": {},
     "output_type": "execute_result"
    }
   ],
   "source": [
    "symmetrize_edge_weights(T([[1, 2], [2, 1]]), T([1, 3]))"
   ]
  },
  {
   "attachments": {},
   "cell_type": "markdown",
   "metadata": {},
   "source": [
    "### Unit Test Code:"
   ]
  },
  {
   "attachments": {},
   "cell_type": "markdown",
   "metadata": {},
   "source": [
    "MockEdgeData creates a randomly ordered set of edges and weights where some edges are symmetric and others are non-symmetric. Size parameter determine a scaling factor for the random variables which determine list length."
   ]
  },
  {
   "cell_type": "code",
   "execution_count": 31,
   "metadata": {},
   "outputs": [],
   "source": [
    "class MockEdgeData:\n",
    "    def __init__(self, size):\n",
    "        overlap = torch.randint(0, size, (1,)).item()\n",
    "        rand = torch.randint(0, size, (1,)).item()\n",
    "\n",
    "        # Add some number of symmetric edges\n",
    "        self.edges = [[i, overlap - i] for i in range(int(overlap/2))] + \\\n",
    "            [[overlap - i, i] for i in range(int(overlap/2))]\n",
    "        self.weights = [int(size * random.random()) for i in range(2 * int(overlap/2))]\n",
    "        self.targets = [(self.weights[i] + self.weights[i + int(overlap/2)])/2 for i in range(int(overlap/2))] + \\\n",
    "            [(self.weights[i] + self.weights[i + int(overlap/2)])/2 for i in range(int(overlap/2))]\n",
    "\n",
    "        # Add some number of non-symmetric edges\n",
    "        for i in range(rand):\n",
    "            self.edges.append([i + overlap + 1, i + overlap + 1 + int(50 * random.random())])\n",
    "            self.weights.append(int(size * random.random()))\n",
    "            self.targets.append(self.weights[-1])\n",
    "\n",
    "        # Randomly order edges\n",
    "        self.edges = T(self.edges)\n",
    "        self.weights = T(self.weights)\n",
    "        self.targets = T(self.targets)\n",
    "        n = self.edges.shape[0]\n",
    "        perm = torch.randperm(n) \n",
    "        self.edges = self.edges[perm]\n",
    "        self.weights = T(self.weights[perm])\n",
    "        self.targets = T(self.targets[perm])"
   ]
  },
  {
   "cell_type": "code",
   "execution_count": 32,
   "metadata": {},
   "outputs": [],
   "source": [
    "def test_symmetrize_edge_weights():\n",
    "    mock = MockEdgeData(1000)\n",
    "    assert torch.equal(symmetrize_edge_weights(mock.edges, mock.weights), mock.targets)\n",
    "    print(\"Test Passed\")"
   ]
  },
  {
   "cell_type": "code",
   "execution_count": 33,
   "metadata": {},
   "outputs": [
    {
     "name": "stdout",
     "output_type": "stream",
     "text": [
      "Test Passed\n"
     ]
    }
   ],
   "source": [
    "test_symmetrize_edge_weights()"
   ]
  }
 ],
 "metadata": {
  "kernelspec": {
   "display_name": "myenv",
   "language": "python",
   "name": "python3"
  },
  "language_info": {
   "codemirror_mode": {
    "name": "ipython",
    "version": 3
   },
   "file_extension": ".py",
   "mimetype": "text/x-python",
   "name": "python",
   "nbconvert_exporter": "python",
   "pygments_lexer": "ipython3",
   "version": "3.10.9"
  },
  "orig_nbformat": 4,
  "vscode": {
   "interpreter": {
    "hash": "649588312d4cf9672288d95fa805e14ed1c14f756baea9d0a14e0f27f774ca24"
   }
  }
 },
 "nbformat": 4,
 "nbformat_minor": 2
}
