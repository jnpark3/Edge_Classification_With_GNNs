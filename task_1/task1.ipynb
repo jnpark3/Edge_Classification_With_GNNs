{
 "cells": [
  {
   "attachments": {},
   "cell_type": "markdown",
   "metadata": {},
   "source": [
    "#### Imports"
   ]
  },
  {
   "cell_type": "code",
   "execution_count": 22,
   "metadata": {},
   "outputs": [],
   "source": [
    "# Import classes from other files\n",
    "from utils.dataStorage import dataStorage\n",
    "from utils.model import EdgeModel"
   ]
  },
  {
   "cell_type": "code",
   "execution_count": 23,
   "metadata": {},
   "outputs": [],
   "source": [
    "# Imports for Visualization\n",
    "import seaborn as sns\n",
    "import matplotlib.pyplot as plt\n",
    "\n",
    "# Import for file handling\n",
    "from pathlib import Path\n",
    "import numpy as np\n",
    "\n",
    "# Torch imports\n",
    "import torch\n",
    "from torch.nn.functional import relu, binary_cross_entropy_with_logits\n",
    "from torch_geometric.loader import DataLoader\n",
    "from torch_geometric.nn import NNConv"
   ]
  },
  {
   "attachments": {},
   "cell_type": "markdown",
   "metadata": {},
   "source": [
    "#### Obtaining the training data"
   ]
  },
  {
   "cell_type": "code",
   "execution_count": 27,
   "metadata": {},
   "outputs": [],
   "source": [
    "# Load all batches into dataset a dataStorage class\n",
    "dataset = dataStorage(Path(\"../dataset/batch_1_\" + str(9)))\n",
    "for i in range(9):\n",
    "    dataset.append(Path(\"../dataset/batch_1_\" + str(i)))\n",
    "\n",
    "# Batch dataset using DataLoader with shuffling\n",
    "loader = DataLoader(dataset, batch_size=64, shuffle=True)"
   ]
  },
  {
   "attachments": {},
   "cell_type": "markdown",
   "metadata": {},
   "source": [
    "#### Preliminary analysis of training data"
   ]
  },
  {
   "cell_type": "code",
   "execution_count": 47,
   "metadata": {},
   "outputs": [
    {
     "name": "stdout",
     "output_type": "stream",
     "text": [
      "Number of graphs in set: 9996\n",
      "Set of keys in each graph ['edge_attr', 'x', 'y', 'edge_index']\n"
     ]
    }
   ],
   "source": [
    "print(\"Number of graphs in set:\", len(dataset))\n",
    "print(\"Set of keys in each graph\", dataset[0].keys)"
   ]
  },
  {
   "cell_type": "code",
   "execution_count": 44,
   "metadata": {},
   "outputs": [
    {
     "name": "stdout",
     "output_type": "stream",
     "text": [
      "Number of node features: 6\n",
      "Number of edge features: 4\n",
      "Is this graph undirected?  False\n"
     ]
    }
   ],
   "source": [
    "print(\"Number of node features:\", dataset[0].num_node_features)\n",
    "print(\"Number of edge features:\", dataset[0].num_edge_features)\n",
    "print(\"Is this graph undirected? \", dataset[0].is_undirected())"
   ]
  },
  {
   "cell_type": "code",
   "execution_count": 50,
   "metadata": {},
   "outputs": [
    {
     "name": "stdout",
     "output_type": "stream",
     "text": [
      "Average number of nodes in first 100 graphs: 289.96\n",
      "Average number of edges in first 100 graphs: 3619.12\n"
     ]
    }
   ],
   "source": [
    "edges_average, nodes_average = 0, 0\n",
    "for i in range(100):\n",
    "    edges_average += dataset[i].num_edges\n",
    "    nodes_average += dataset[i].num_nodes\n",
    "\n",
    "print(\"Average number of nodes in first 100 graphs:\", nodes_average/100)\n",
    "print(\"Average number of edges in first 100 graphs:\", edges_average/100)"
   ]
  },
  {
   "cell_type": "code",
   "execution_count": 51,
   "metadata": {},
   "outputs": [
    {
     "name": "stdout",
     "output_type": "stream",
     "text": [
      "Proportion of edges that are True in first 100 graphs: 0.2083113230764866\n"
     ]
    }
   ],
   "source": [
    "percent_average = 0\n",
    "for i in range(100):\n",
    "    percent_average += (dataset[i]['y'].sum()/len(dataset[i]['y'])).item()\n",
    "\n",
    "print(\"Proportion of edges that are True in first 100 graphs:\", percent_average/100)"
   ]
  },
  {
   "attachments": {},
   "cell_type": "markdown",
   "metadata": {},
   "source": [
    "We can make a few observations from these results. First, "
   ]
  },
  {
   "attachments": {},
   "cell_type": "markdown",
   "metadata": {},
   "source": [
    "### Train Model"
   ]
  },
  {
   "cell_type": "code",
   "execution_count": 21,
   "metadata": {},
   "outputs": [
    {
     "name": "stdout",
     "output_type": "stream",
     "text": [
      "Final Loss: 0.4844498336315155\n"
     ]
    }
   ],
   "source": [
    "device = torch.device('cpu')\n",
    "model = EdgeModel(dataset[0]).to(device)\n",
    "optimizer = torch.optim.Adam(model.parameters(), lr=0.02, weight_decay=1e-4)\n",
    "\n",
    "model.train()\n",
    "loss_values = []\n",
    "epoch_values = []\n",
    "ref_values = []\n",
    "ref_values = []\n",
    "val = 0\n",
    "\n",
    "for batch in loader:\n",
    "    val += 1\n",
    "    data = batch.to(device)\n",
    "    optimizer.zero_grad()\n",
    "    out = model(data)\n",
    "    ones = 0.1 * torch.ones(len(out))\n",
    "    zeros = torch.zeros(len(out))\n",
    "    loss = binary_cross_entropy_with_logits(out, data.y)\n",
    "    ref1 = binary_cross_entropy_with_logits(ones, data.y)\n",
    "    ref2 = binary_cross_entropy_with_logits(zeros, data.y)\n",
    "    loss_values.append(loss.item())\n",
    "    epoch_values.append(val)\n",
    "    ref_values.append(ref1)\n",
    "    loss.backward()\n",
    "    optimizer.step()\n",
    "\n",
    "model.eval()\n",
    "ref = np.mean(ref_values)\n",
    "print(\"Final Loss: \" + str(loss_values[-1]))"
   ]
  },
  {
   "cell_type": "code",
   "execution_count": 24,
   "metadata": {},
   "outputs": [
    {
     "data": {
      "image/png": "[encoded data removed]",
      "text/plain": [
       "<Figure size 640x480 with 1 Axes>"
      ]
     },
     "metadata": {},
     "output_type": "display_data"
    }
   ],
   "source": [
    "sns.lineplot(y=loss_values, x=epoch_values)\n",
    "\n",
    "plt.title(\"Training Loss by Epoch\")\n",
    "plt.xlabel(\"Epoch\")\n",
    "plt.ylabel(\"Loss\")\n",
    "\n",
    "plt.axhline(y=ref, color='r', linestyle='--')\n",
    "\n",
    "plt.ylim(0, 8)\n",
    "\n",
    "plt.show()"
   ]
  },
  {
   "cell_type": "code",
   "execution_count": null,
   "metadata": {},
   "outputs": [],
   "source": []
  }
 ],
 "metadata": {
  "kernelspec": {
   "display_name": "myenv",
   "language": "python",
   "name": "python3"
  },
  "language_info": {
   "codemirror_mode": {
    "name": "ipython",
    "version": 3
   },
   "file_extension": ".py",
   "mimetype": "text/x-python",
   "name": "python",
   "nbconvert_exporter": "python",
   "pygments_lexer": "ipython3",
   "version": "3.10.9"
  },
  "orig_nbformat": 4,
  "vscode": {
   "interpreter": {
    "hash": "649588312d4cf9672288d95fa805e14ed1c14f756baea9d0a14e0f27f774ca24"
   }
  }
 },
 "nbformat": 4,
 "nbformat_minor": 2
}
