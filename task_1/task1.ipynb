{
 "cells": [
  {
   "cell_type": "code",
   "execution_count": null,
   "metadata": {},
   "outputs": [],
   "source": [
    "# Import for file handling\n",
    "from pathlib import Path\n",
    "\n",
    "import numpy as np\n",
    "\n",
    "# Torch imports\n",
    "import torch\n",
    "from torch.nn.functional import relu, binary_cross_entropy_with_logits\n",
    "from torch.utils.data import Dataset\n",
    "from torch_geometric.loader import DataLoader\n",
    "from torch_geometric.nn import NNConv"
   ]
  },
  {
   "cell_type": "code",
   "execution_count": 3,
   "metadata": {},
   "outputs": [],
   "source": [
    "# Imports for Visualization\n",
    "import seaborn as sns\n",
    "import matplotlib.pyplot as plt"
   ]
  },
  {
   "attachments": {},
   "cell_type": "markdown",
   "metadata": {},
   "source": [
    "#### MyDataset Class for handling downloading data"
   ]
  },
  {
   "cell_type": "code",
   "execution_count": 4,
   "metadata": {},
   "outputs": [],
   "source": [
    "# MyDataset class for handling file loading\n",
    "\n",
    "class MyDataset(Dataset):\n",
    "    def __init__(self, path: Path):\n",
    "        super().__init__()\n",
    "        self.graphs = list(path.glob(\"*.pt\"))\n",
    "    \n",
    "    def append(self, path: Path):\n",
    "        self.graphs = self.graphs + list(path.glob(\"*.pt\"))\n",
    "\n",
    "    def __getitem__(self, idx):\n",
    "        return torch.load(self.graphs[idx])\n",
    "    \n",
    "    def __len__(self) -> int:\n",
    "        return len(self.graphs)"
   ]
  },
  {
   "attachments": {},
   "cell_type": "markdown",
   "metadata": {},
   "source": [
    "#### Obtaining the training data"
   ]
  },
  {
   "cell_type": "code",
   "execution_count": 7,
   "metadata": {},
   "outputs": [],
   "source": [
    "# Load all batches into dataset a MyDataset class\n",
    "dataset = MyDataset(Path(\"../dataset/batch_1_\" + str(9)))\n",
    "for i in range(9):\n",
    "    dataset.append(Path(\"../dataset/batch_1_\" + str(i)))\n",
    "\n",
    "# Batch dataset using DataLoader\n",
    "loader = DataLoader(dataset, batch_size=32)"
   ]
  },
  {
   "attachments": {},
   "cell_type": "markdown",
   "metadata": {},
   "source": [
    "#### Preliminary analysis of training data"
   ]
  },
  {
   "cell_type": "code",
   "execution_count": 8,
   "metadata": {},
   "outputs": [
    {
     "name": "stdout",
     "output_type": "stream",
     "text": [
      "Number of graphs in set: 9996\n",
      "Set of keys in each graph ['edge_attr', 'x', 'y', 'edge_index']\n",
      "Number of nodes in first graph: 298\n",
      "Number of edges in first graph: 3230\n",
      "Number of node features: 6\n",
      "Number of edge features: 4\n",
      "Is this graph undirected?  False\n"
     ]
    }
   ],
   "source": [
    "# Preliminary analysis of dataset behavior\n",
    "\n",
    "print(\"Number of graphs in set:\", len(dataset))\n",
    "print(\"Set of keys in each graph\", dataset[0].keys)\n",
    "print(\"Number of nodes in first graph:\", dataset[0].num_nodes)\n",
    "print(\"Number of edges in first graph:\", dataset[0].num_edges)\n",
    "print(\"Number of node features:\", dataset[0].num_node_features)\n",
    "print(\"Number of edge features:\", dataset[0].num_edge_features)\n",
    "print(\"Is this graph undirected? \", dataset[0].is_undirected())"
   ]
  },
  {
   "attachments": {},
   "cell_type": "markdown",
   "metadata": {},
   "source": [
    "### Model Class"
   ]
  },
  {
   "cell_type": "code",
   "execution_count": 9,
   "metadata": {},
   "outputs": [],
   "source": [
    "class GNN(torch.nn.Module):\n",
    "    def __init__(self, sample, hidden_layers = [16], intra_hidden = 10):\n",
    "        super().__init__()\n",
    "\n",
    "        self.conv = []\n",
    "        self.linear_weights = torch.randn(2 * sample.num_node_features + sample.num_edge_features)\n",
    "\n",
    "        if len(hidden_layers) == 0:\n",
    "            # Case when no hidden layers are passed\n",
    "\n",
    "            nn = torch.nn.Sequential(\n",
    "                torch.nn.Linear(sample.num_edge_features, intra_hidden),\n",
    "                torch.nn.ReLU(),\n",
    "                torch.nn.Linear(intra_hidden, sample.num_node_features)\n",
    "            )\n",
    "            self.conv.append(NNConv(sample.num_node_features, 1, nn))\n",
    "\n",
    "        else:\n",
    "            # Case when hidden layers are passed\n",
    "\n",
    "            nn = self.simple_nn(sample.num_edge_features, intra_hidden, sample.num_node_features * hidden_layers[0])\n",
    "            self.conv.append(NNConv(sample.num_node_features, hidden_layers[0], nn))\n",
    "\n",
    "            for i in range(len(hidden_layers) - 1):\n",
    "                nn = self.simple_nn(sample.num_edge_features, intra_hidden, hidden_layers[i] * hidden_layers[i + 1])\n",
    "                self.conv.append(NNConv(hidden_layers[i], hidden_layers[i + 1], nn))    \n",
    "            \n",
    "            nn = self.simple_nn(sample.num_edge_features, intra_hidden, intra_hidden * hidden_layers[-1])\n",
    "            self.conv.append(NNConv(hidden_layers[-1], intra_hidden, nn))\n",
    "\n",
    "        # Last layer for making edge predictions from node + edge data\n",
    "        self.edge_predictor = self.simple_nn(sample.num_edge_features + intra_hidden, intra_hidden, 1)\n",
    "\n",
    "        self.conv_module = torch.nn.ModuleList(self.conv)\n",
    "    \n",
    "    def simple_nn(self, a_1, a_2, a_3):\n",
    "        return torch.nn.Sequential(\n",
    "            torch.nn.Linear(a_1, a_2),\n",
    "            torch.nn.ReLU(),\n",
    "            torch.nn.Linear(a_2, a_3)\n",
    "        )\n",
    "\n",
    "    def forward(self, data):\n",
    "\n",
    "        x, edge_attr, edge_index = data.x, data.edge_attr, data.edge_index\n",
    "        '''\n",
    "        # Concatenate the edge attributes with the source node attributes\n",
    "        '''\n",
    "    \n",
    "        for i in range(len(self.conv)):\n",
    "            x = relu(self.conv[i](x, edge_index, edge_attr))\n",
    "\n",
    "        src_node_attrs = x[edge_index[0]]\n",
    "        conv_attributes = torch.cat((edge_attr, src_node_attrs), dim=1)\n",
    "        edge_scores = self.edge_predictor(conv_attributes)\n",
    "\n",
    "        return edge_scores.squeeze()"
   ]
  },
  {
   "attachments": {},
   "cell_type": "markdown",
   "metadata": {},
   "source": [
    "### Train Model"
   ]
  },
  {
   "cell_type": "code",
   "execution_count": 10,
   "metadata": {},
   "outputs": [],
   "source": [
    "device = torch.device('cpu')\n",
    "model = GNN(dataset[0]).to(device)\n",
    "optimizer = torch.optim.Adam(model.parameters(), lr=0.02, weight_decay=1e-4)\n",
    "\n",
    "model.train()\n",
    "loss_values = []\n",
    "epoch_values = []\n",
    "ref_values = []\n",
    "ref_values = []\n",
    "val = 0\n",
    "\n",
    "for batch in loader:\n",
    "    val += 1\n",
    "    data = batch.to(device)\n",
    "    optimizer.zero_grad()\n",
    "    out = model(data)\n",
    "    ones = 0.1 * torch.ones(len(out))\n",
    "    zeros = torch.zeros(len(out))\n",
    "    loss = binary_cross_entropy_with_logits(out, data.y)\n",
    "    ref1 = binary_cross_entropy_with_logits(ones, data.y)\n",
    "    ref2 = binary_cross_entropy_with_logits(zeros, data.y)\n",
    "    loss_values.append(loss.item())\n",
    "    epoch_values.append(val)\n",
    "    ref_values.append(ref1)\n",
    "    loss.backward()\n",
    "    optimizer.step()\n",
    "\n",
    "model.eval()\n",
    "ref = np.mean(ref_values)\n",
    "print(\"Final Loss: \" + str(loss_values[-1]))"
   ]
  },
  {
   "cell_type": "code",
   "execution_count": 212,
   "metadata": {},
   "outputs": [
    {
     "data": {
      "image/png": "[encoded data removed]",
      "text/plain": [
       "<Figure size 640x480 with 1 Axes>"
      ]
     },
     "metadata": {},
     "output_type": "display_data"
    }
   ],
   "source": [
    "sns.lineplot(y=loss_values, x=epoch_values)\n",
    "\n",
    "plt.title(\"Training Loss by Epoch\")\n",
    "plt.xlabel(\"Epoch\")\n",
    "plt.ylabel(\"Loss\")\n",
    "\n",
    "plt.axhline(y=ref, color='r', linestyle='--')\n",
    "\n",
    "plt.ylim(0, 8)\n",
    "\n",
    "plt.show()"
   ]
  },
  {
   "cell_type": "code",
   "execution_count": null,
   "metadata": {},
   "outputs": [],
   "source": []
  }
 ],
 "metadata": {
  "kernelspec": {
   "display_name": "myenv",
   "language": "python",
   "name": "python3"
  },
  "language_info": {
   "codemirror_mode": {
    "name": "ipython",
    "version": 3
   },
   "file_extension": ".py",
   "mimetype": "text/x-python",
   "name": "python",
   "nbconvert_exporter": "python",
   "pygments_lexer": "ipython3",
   "version": "3.10.9"
  },
  "orig_nbformat": 4,
  "vscode": {
   "interpreter": {
    "hash": "649588312d4cf9672288d95fa805e14ed1c14f756baea9d0a14e0f27f774ca24"
   }
  }
 },
 "nbformat": 4,
 "nbformat_minor": 2
}
