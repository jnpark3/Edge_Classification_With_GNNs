{
 "cells": [
  {
   "cell_type": "code",
   "execution_count": 10,
   "metadata": {},
   "outputs": [],
   "source": [
    "# Necessary imports\n",
    "\n",
    "from pathlib import Path\n",
    "\n",
    "from torch.utils.data import Dataset  # not the one from PyG!\n",
    "from torch_geometric.loader import DataLoader\n",
    "import torch\n",
    "\n",
    "from torch_geometric.nn import GCNConv\n",
    "from torch.nn.functional import relu, binary_cross_entropy_with_logits\n"
   ]
  },
  {
   "cell_type": "code",
   "execution_count": 16,
   "metadata": {},
   "outputs": [],
   "source": [
    "# MyDataset class for handling file loading\n",
    "\n",
    "class MyDataset(Dataset):\n",
    "    def __init__(self, path: Path):\n",
    "        super().__init__()\n",
    "        self.graphs = list(path.glob(\"*.pt\"))\n",
    "    \n",
    "    def __getitem__(self, idx):\n",
    "        return torch.load(self.graphs[idx])\n",
    "    \n",
    "    def __len__(self) -> int:\n",
    "        return len(self.graphs)"
   ]
  },
  {
   "cell_type": "code",
   "execution_count": 46,
   "metadata": {},
   "outputs": [
    {
     "name": "stdout",
     "output_type": "stream",
     "text": [
      "Number of graphs in set: 1000\n",
      "Set of keys in each graph ['y', 'edge_attr', 'x', 'edge_index']\n",
      "Number of nodes in first graph: 419\n",
      "Number of edges in first graph: 4882\n",
      "Number of node features: 6\n",
      "Number of edge features: 4\n",
      "Is this graph undirected?  False\n",
      "Number of edge features: tensor([1., 1., 1.,  ..., 1., 1., 1.])\n"
     ]
    }
   ],
   "source": [
    "# Load first batch (batch_1_0)\n",
    "\n",
    "dataset = MyDataset(Path(\"./dataset/batch_1_0\"))\n",
    "\n",
    "# Preliminary analysis of dataset behavior\n",
    "\n",
    "print(\"Number of graphs in set:\", len(dataset))\n",
    "print(\"Set of keys in each graph\", dataset[0].keys)\n",
    "print(\"Number of nodes in first graph:\", dataset[0].num_nodes)\n",
    "print(\"Number of edges in first graph:\", dataset[0].num_edges)\n",
    "print(\"Number of node features:\", dataset[0].num_node_features)\n",
    "print(\"Number of edge features:\", dataset[0].num_edge_features)\n",
    "print(\"Is this graph undirected? \", dataset[0].is_undirected())\n",
    "\n",
    "print(\"Number of edge features:\", dataset[0]['y'])\n",
    "\n",
    "loader = DataLoader(dataset, batch_size=32)"
   ]
  },
  {
   "cell_type": "code",
   "execution_count": 51,
   "metadata": {},
   "outputs": [],
   "source": [
    "class GNN(torch.nn.Module):\n",
    "    def __init__(self, sample, hidden_layers = [8]):\n",
    "        super().__init__()\n",
    "\n",
    "        self.conv = []\n",
    "\n",
    "        if len(hidden_layers) == 0:\n",
    "            # Case when no hidden layers are passed\n",
    "            self.conv.append(GCNConv(sample.num_node_features + sample.num_edge_features, 1))\n",
    "\n",
    "        else:\n",
    "            # Case when hidden layers are passed\n",
    "            self.conv.append(GCNConv(sample.num_node_features + sample.num_edge_features, hidden_layers[0]))\n",
    "            for i in range(len(hidden_layers) - 1):\n",
    "                self.conv.append(GCNConv(hidden_layers[i], hidden_layers[i + 1]))    \n",
    "            self.conv.append(GCNConv(hidden_layers[-1], 1))\n",
    "\n",
    "    def forward(self, data):\n",
    "\n",
    "        x, edge_attr, edge_index = data.x, data.edge_attr, data.edge_index\n",
    "        '''\n",
    "        # Concatenate the edge attributes with the source node attributes\n",
    "        src_node_attrs = x[edge_index[0]]\n",
    "        conv_attributes = torch.cat((edge_attr, src_node_attrs), dim=1)    \n",
    "        '''\n",
    "    \n",
    "        for i in range(len(self.conv)):\n",
    "            x = self.conv[i](x, edge_index, edge_attr)\n",
    "            if i < len(self.conv) - 1:\n",
    "                x = relu(x)\n",
    "\n",
    "        return x"
   ]
  },
  {
   "cell_type": "code",
   "execution_count": 48,
   "metadata": {},
   "outputs": [],
   "source": [
    "device = torch.device('cpu')\n"
   ]
  },
  {
   "cell_type": "code",
   "execution_count": 50,
   "metadata": {},
   "outputs": [
    {
     "name": "stdout",
     "output_type": "stream",
     "text": [
      "tensor([[ 2.8229,  1.1472, -1.4095,  0.9064,  0.4386,  0.8614, -0.0332,  1.3438],\n",
      "        [ 0.5211,  0.3819,  0.7579,  0.2391, -1.9337, -1.1964,  1.8479,  1.9858],\n",
      "        [-0.3307, -0.4691, -0.0952, -0.9481,  0.0325, -0.3639,  1.4590, -2.4435],\n",
      "        [-0.2916, -0.3574, -0.2228,  1.8745,  2.1522, -0.6042,  1.5561,  2.8058],\n",
      "        [-0.0472,  0.1039, -1.5517, -0.2899,  0.0590, -1.6996,  0.0304,  1.9987],\n",
      "        [ 0.9412, -0.1166,  0.4736, -0.8124,  0.6360,  0.0360, -1.2121, -1.7497],\n",
      "        [ 2.5634,  1.2080,  1.6952, -1.4127,  0.7093,  0.8614, -0.0332,  1.3438],\n",
      "        [ 0.4937, -0.5360,  0.6529,  0.6682, -1.3964, -1.1964,  1.8479,  1.9858],\n",
      "        [-0.0542, -1.4778,  0.0411,  1.8971,  1.1198, -0.6042,  1.5561,  2.8058],\n",
      "        [ 1.5709,  0.6317,  1.0711, -0.1319,  0.6079, -1.6996,  0.0304,  1.9987]])\n"
     ]
    }
   ],
   "source": [
    "edge_index = torch.tensor([[0, 1, 2, 3, 4, 5, 0, 1, 3, 4],\n",
    "                           [1, 2, 3, 4, 5, 0, 2, 3, 5, 5]])\n",
    "edge_attr = torch.randn((10, 5))\n",
    "x = torch.randn((6, 3))\n",
    "\n",
    "src_node_attrs = x[edge_index[0]]\n",
    "concatenated_attrs = torch.cat((edge_attr, src_node_attrs), dim=1)\n",
    "print(concatenated_attrs)"
   ]
  },
  {
   "cell_type": "code",
   "execution_count": null,
   "metadata": {},
   "outputs": [],
   "source": []
  }
 ],
 "metadata": {
  "kernelspec": {
   "display_name": "myenv",
   "language": "python",
   "name": "python3"
  },
  "language_info": {
   "codemirror_mode": {
    "name": "ipython",
    "version": 3
   },
   "file_extension": ".py",
   "mimetype": "text/x-python",
   "name": "python",
   "nbconvert_exporter": "python",
   "pygments_lexer": "ipython3",
   "version": "3.10.9"
  },
  "orig_nbformat": 4,
  "vscode": {
   "interpreter": {
    "hash": "649588312d4cf9672288d95fa805e14ed1c14f756baea9d0a14e0f27f774ca24"
   }
  }
 },
 "nbformat": 4,
 "nbformat_minor": 2
}
